{
 "cells": [
  {
   "cell_type": "code",
   "execution_count": 2,
   "id": "5ed92bcc",
   "metadata": {
    "execution": {
     "iopub.execute_input": "2021-11-29T21:45:11.079318Z",
     "iopub.status.busy": "2021-11-29T21:45:11.078729Z",
     "iopub.status.idle": "2021-11-29T21:45:12.019815Z",
     "shell.execute_reply": "2021-11-29T21:45:12.018973Z",
     "shell.execute_reply.started": "2021-11-29T21:45:11.079174Z"
    },
    "tags": []
   },
   "outputs": [],
   "source": [
    "from dingo import HPolytope\n",
    "import numpy as np\n",
    "from dingo.gurobi_based_implementations import fast_inner_ball\n",
    "from dingo import PolytopeSampler\n",
    "from polytope_oracles.membership import Membership\n",
    "from polytope import box2poly\n",
    "from polytope import Polytope\n",
    "from polytope_oracles.samplers import SphereBasedSampler\n",
    "from dataclasses import dataclass, field\n",
    "from typing import List, Iterable\n",
    "from timeit import default_timer as timer\n",
    "from collections import defaultdict\n",
    "import pandas as pd\n",
    "import pickle"
   ]
  },
  {
   "cell_type": "code",
   "execution_count": 3,
   "id": "389728db",
   "metadata": {
    "execution": {
     "iopub.execute_input": "2021-11-29T21:45:13.488022Z",
     "iopub.status.busy": "2021-11-29T21:45:13.487596Z",
     "iopub.status.idle": "2021-11-29T21:45:13.501710Z",
     "shell.execute_reply": "2021-11-29T21:45:13.501030Z",
     "shell.execute_reply.started": "2021-11-29T21:45:13.487967Z"
    },
    "tags": []
   },
   "outputs": [],
   "source": [
    "@dataclass\n",
    "class Query:\n",
    "    point: np.ndarray\n",
    "    inside: bool\n",
    "    \n",
    "    @property\n",
    "    def get_point(self):\n",
    "        return point\n",
    "\n",
    "\n",
    "@dataclass\n",
    "class PolytopeQuery:\n",
    "    polytope: HPolytope\n",
    "    queries: List[Query] = field(default_factory=list)\n",
    "    \n",
    "    @property\n",
    "    def dimension(self):\n",
    "        return polytope.dimension()\n",
    "    \n",
    "    def __getstate__(self):\n",
    "        state = self.__dict__.copy()\n",
    "        state['A'] = self.polytope.A()\n",
    "        state['b'] = self.polytope.b()\n",
    "        del state['polytope']\n",
    "        return state\n",
    "    \n",
    "    def __setstate__(self, state):\n",
    "        A = state.pop('A')\n",
    "        b = state.pop('b')\n",
    "        self.__dict__.update(state)\n",
    "        self.polytope = HPolytope(A, b)"
   ]
  },
  {
   "cell_type": "markdown",
   "id": "c6a45ef2",
   "metadata": {},
   "source": [
    "Define experimentation protocol"
   ]
  },
  {
   "cell_type": "code",
   "execution_count": 4,
   "id": "01c5f131",
   "metadata": {
    "execution": {
     "iopub.execute_input": "2021-11-29T21:45:16.269492Z",
     "iopub.status.busy": "2021-11-29T21:45:16.269091Z",
     "iopub.status.idle": "2021-11-29T21:45:16.278961Z",
     "shell.execute_reply": "2021-11-29T21:45:16.277695Z",
     "shell.execute_reply.started": "2021-11-29T21:45:16.269440Z"
    },
    "tags": []
   },
   "outputs": [],
   "source": [
    "def is_in(point: np.ndarray, polytope: HPolytope, loop: bool = True):\n",
    "    if loop:\n",
    "        for i in range(polytope.A().shape[0]):\n",
    "            h = polytope.A()[i, :]\n",
    "            if h.dot(point) > polytope.b()[i]:\n",
    "                return False\n",
    "        return True\n",
    "    else:\n",
    "        return (polytope.A().dot(point) <= polytope.b()).all()"
   ]
  },
  {
   "cell_type": "code",
   "execution_count": 5,
   "id": "f9a2063e",
   "metadata": {},
   "outputs": [],
   "source": [
    "def is_in_polytope(point: np.ndarray, polytope):\n",
    "    return point in polytope"
   ]
  },
  {
   "cell_type": "code",
   "execution_count": 6,
   "id": "2aa22fff",
   "metadata": {
    "execution": {
     "iopub.execute_input": "2021-11-29T21:55:00.067591Z",
     "iopub.status.busy": "2021-11-29T21:55:00.066773Z",
     "iopub.status.idle": "2021-11-29T21:55:00.084015Z",
     "shell.execute_reply": "2021-11-29T21:55:00.083173Z",
     "shell.execute_reply.started": "2021-11-29T21:55:00.067503Z"
    },
    "tags": []
   },
   "outputs": [],
   "source": [
    "from tqdm.auto import tqdm\n",
    "\n",
    "\n",
    "def run_experiments(polytope_queries: Iterable[PolytopeQuery], **membership_init_args) :\n",
    "    results = {\"time\": [], \"success\": []}\n",
    "\n",
    "    for polytope_query in polytope_queries:\n",
    "        n = polytope_query.polytope.A().shape[0]\n",
    "        d = polytope_query.polytope.dimension()\n",
    "\n",
    "        print(f'n={n} -- d={d}')\n",
    "\n",
    "        tic = timer()\n",
    "        membership = Membership(polytope=polytope_query.polytope)\n",
    "        membership.initialize(**membership_init_args)\n",
    "        toc = timer()\n",
    "        preprocessing_time = toc - tic\n",
    "        \n",
    "        for query in tqdm(polytope_query.queries):\n",
    "            #tic = timer()\n",
    "            #response = is_in(query.point, polytope_query.polytope, loop=True)\n",
    "            #results['time'].append({\"n\": n, \"d\": d, \"elapsed\": timer() - tic, \"type\": \"brute force loop\"})\n",
    "            #results['success'].append({\"n\": n, \"d\": d, \"success\": response == query.inside, \"type\": \"brute force loop\", \"actual\": query.inside})\n",
    "\n",
    "            poly = Polytope(polytope_query.polytope.A(),polytope_query.polytope.b()) \n",
    "            tic = timer()\n",
    "            #response = is_in(query.point, polytope_query.polytope, loop=False)\n",
    "            response = is_in_polytope(query.point, poly)\n",
    "            results['time'].append({\"n\": n, \"d\": d, \"elapsed\": timer() - tic, \"type\": \"brute force vectorized\"})\n",
    "            results['success'].append({\"n\": n, \"d\": d, \"success\": response == query.inside, \"type\": \"brute force vectorized\", \"actual\": query.inside})\n",
    "\n",
    "            tic = timer()\n",
    "            response = membership.contains(query.point)\n",
    "            results['time'].append({\"n\": n, \"d\": d, \"elapsed\": timer() - tic, \"type\": \"membership\"})\n",
    "            results['success'].append({\"n\": n, \"d\": d, \"success\": response == query.inside, \"type\": \"membership\", \"actual\": query.inside})\n",
    "    return pd.DataFrame(results['time']), pd.DataFrame(results['success']), preprocessing_time"
   ]
  },
  {
   "cell_type": "markdown",
   "id": "c798fd7c",
   "metadata": {},
   "source": [
    "# Hyper-cube experiments"
   ]
  },
  {
   "cell_type": "markdown",
   "id": "bbee7a1a",
   "metadata": {},
   "source": [
    "## Preparation"
   ]
  },
  {
   "cell_type": "markdown",
   "id": "4419f62e",
   "metadata": {
    "execution": {
     "iopub.execute_input": "2021-11-05T17:47:56.443294Z",
     "iopub.status.busy": "2021-11-05T17:47:56.442791Z",
     "iopub.status.idle": "2021-11-05T17:47:56.451134Z",
     "shell.execute_reply": "2021-11-05T17:47:56.449592Z",
     "shell.execute_reply.started": "2021-11-05T17:47:56.443236Z"
    }
   },
   "source": [
    "For a number of different dimensions, generate cubes of varying side sizes, so that we can measure the effect of absolute numbers in our method"
   ]
  },
  {
   "cell_type": "code",
   "execution_count": 39,
   "id": "9030bc3a",
   "metadata": {
    "execution": {
     "iopub.execute_input": "2021-11-29T21:57:02.834609Z",
     "iopub.status.busy": "2021-11-29T21:57:02.834191Z",
     "iopub.status.idle": "2021-11-29T21:57:02.932955Z",
     "shell.execute_reply": "2021-11-29T21:57:02.931933Z",
     "shell.execute_reply.started": "2021-11-29T21:57:02.834555Z"
    },
    "tags": []
   },
   "outputs": [],
   "source": [
    "side_sizes = [100000] # [1, 10, 100, 1000, 10000]\n",
    "dimensions = [100]# [10, 50, 100, 200, 500, 1000, 2000, 5000, 10000]\n",
    "\n",
    "cubes_by_side = defaultdict(list)\n",
    "for side_size in side_sizes:\n",
    "    for d in dimensions:\n",
    "        box = box2poly([(- side_size / 2, side_size / 2)] * d)\n",
    "        cubes_by_side[side_size].append(HPolytope(box.A, box.b))"
   ]
  },
  {
   "cell_type": "markdown",
   "id": "52a55f93",
   "metadata": {},
   "source": [
    "Define hyper-cube sampling method. For each dimension we take a number of values uniformly distributes within the bounds of each cube."
   ]
  },
  {
   "cell_type": "code",
   "execution_count": 40,
   "id": "7545d5af",
   "metadata": {
    "execution": {
     "iopub.execute_input": "2021-11-29T21:57:03.663791Z",
     "iopub.status.busy": "2021-11-29T21:57:03.663377Z",
     "iopub.status.idle": "2021-11-29T21:57:03.674883Z",
     "shell.execute_reply": "2021-11-29T21:57:03.673929Z",
     "shell.execute_reply.started": "2021-11-29T21:57:03.663736Z"
    },
    "tags": []
   },
   "outputs": [],
   "source": [
    "def sample_cube(cube: HPolytope, n_points: int = 100, seed: int = 42):\n",
    "    generator = np.random.default_rng()\n",
    "    sides = np.multiply(cube.A(), cube.b()[:, np.newaxis])\n",
    "    points = [list() for _ in range(n_points)]\n",
    "    for side in range(sides.shape[1]):\n",
    "        for i, value in enumerate(generator.uniform(np.min(sides[:, side]), np.max(sides[:, side]), n_points)):\n",
    "            points[i].append(value)\n",
    "    return [Query(p, True) for p in points]"
   ]
  },
  {
   "cell_type": "code",
   "execution_count": 41,
   "id": "f4a25ba1",
   "metadata": {
    "execution": {
     "iopub.execute_input": "2021-11-29T21:57:03.850828Z",
     "iopub.status.busy": "2021-11-29T21:57:03.850493Z",
     "iopub.status.idle": "2021-11-29T21:57:04.444407Z",
     "shell.execute_reply": "2021-11-29T21:57:04.443585Z",
     "shell.execute_reply.started": "2021-11-29T21:57:03.850784Z"
    },
    "tags": []
   },
   "outputs": [],
   "source": [
    "polytope_queries_by_side = {}\n",
    "for side in cubes_by_side:\n",
    "    polytope_queries_by_side[side] = [PolytopeQuery(polytope, sample_cube(polytope)) for polytope in cubes_by_side[side]]"
   ]
  },
  {
   "cell_type": "code",
   "execution_count": null,
   "id": "7398aab2",
   "metadata": {
    "scrolled": true
   },
   "outputs": [],
   "source": []
  },
  {
   "cell_type": "code",
   "execution_count": 42,
   "id": "20ba1ae1",
   "metadata": {
    "execution": {
     "iopub.execute_input": "2021-11-29T21:57:04.446010Z",
     "iopub.status.busy": "2021-11-29T21:57:04.445759Z",
     "iopub.status.idle": "2021-11-29T21:57:08.623983Z",
     "shell.execute_reply": "2021-11-29T21:57:08.623317Z",
     "shell.execute_reply.started": "2021-11-29T21:57:04.445985Z"
    },
    "scrolled": true,
    "tags": [
     "preparation"
    ]
   },
   "outputs": [],
   "source": [
    "with open(\"./cube_queries.pickle\", \"wb\") as fout:\n",
    "    pickle.dump(polytope_queries_by_side, fout)"
   ]
  },
  {
   "cell_type": "code",
   "execution_count": 43,
   "id": "7ff4ff6d",
   "metadata": {
    "execution": {
     "iopub.execute_input": "2021-11-29T21:57:08.625649Z",
     "iopub.status.busy": "2021-11-29T21:57:08.625390Z",
     "iopub.status.idle": "2021-11-29T21:57:08.829050Z",
     "shell.execute_reply": "2021-11-29T21:57:08.827615Z",
     "shell.execute_reply.started": "2021-11-29T21:57:08.625624Z"
    },
    "tags": []
   },
   "outputs": [
    {
     "name": "stdout",
     "output_type": "stream",
     "text": [
      "-rw-rw-r-- 1 vissarion vissarion 346K Φεβ  18 17:46 cube_queries.pickle\r\n"
     ]
    }
   ],
   "source": [
    "! ls -lh cube_queries.pickle"
   ]
  },
  {
   "cell_type": "markdown",
   "id": "6bd8738c",
   "metadata": {},
   "source": [
    "# Experiment"
   ]
  },
  {
   "cell_type": "code",
   "execution_count": 26,
   "id": "a68bbf2f",
   "metadata": {
    "execution": {
     "iopub.execute_input": "2021-11-29T21:57:08.831817Z",
     "iopub.status.busy": "2021-11-29T21:57:08.831377Z",
     "iopub.status.idle": "2021-11-29T21:57:09.481926Z",
     "shell.execute_reply": "2021-11-29T21:57:09.481140Z",
     "shell.execute_reply.started": "2021-11-29T21:57:08.831757Z"
    },
    "tags": []
   },
   "outputs": [],
   "source": [
    "with open(\"./cube_queries.pickle\", \"rb\") as fin:\n",
    "    polytope_queries_by_side = pickle.load(fin)"
   ]
  },
  {
   "cell_type": "code",
   "execution_count": 27,
   "id": "97d4416e",
   "metadata": {
    "execution": {
     "iopub.execute_input": "2021-11-29T21:57:09.483726Z",
     "iopub.status.busy": "2021-11-29T21:57:09.483538Z",
     "iopub.status.idle": "2021-11-29T22:00:45.880920Z",
     "shell.execute_reply": "2021-11-29T22:00:45.879780Z",
     "shell.execute_reply.started": "2021-11-29T21:57:09.483700Z"
    },
    "scrolled": false,
    "tags": []
   },
   "outputs": [
    {
     "name": "stdout",
     "output_type": "stream",
     "text": [
      "n=200 -- d=100\n",
      "0.03633671801071614\n"
     ]
    },
    {
     "data": {
      "application/vnd.jupyter.widget-view+json": {
       "model_id": "0b129eedfaa14867b55ee5a260b152b5",
       "version_major": 2,
       "version_minor": 0
      },
      "text/plain": [
       "  0%|          | 0/100 [00:00<?, ?it/s]"
      ]
     },
     "metadata": {},
     "output_type": "display_data"
    }
   ],
   "source": [
    "results = []\n",
    "for side, polytopes in polytope_queries_by_side.items():\n",
    "    results.append(run_experiments(polytopes))"
   ]
  },
  {
   "cell_type": "code",
   "execution_count": 28,
   "id": "80d680f1",
   "metadata": {
    "execution": {
     "iopub.execute_input": "2021-11-29T22:15:49.477214Z",
     "iopub.status.busy": "2021-11-29T22:15:49.476690Z",
     "iopub.status.idle": "2021-11-29T22:15:49.501128Z",
     "shell.execute_reply": "2021-11-29T22:15:49.500059Z",
     "shell.execute_reply.started": "2021-11-29T22:15:49.477158Z"
    },
    "scrolled": true,
    "tags": []
   },
   "outputs": [
    {
     "data": {
      "text/html": [
       "<div>\n",
       "<style scoped>\n",
       "    .dataframe tbody tr th:only-of-type {\n",
       "        vertical-align: middle;\n",
       "    }\n",
       "\n",
       "    .dataframe tbody tr th {\n",
       "        vertical-align: top;\n",
       "    }\n",
       "\n",
       "    .dataframe thead th {\n",
       "        text-align: right;\n",
       "    }\n",
       "</style>\n",
       "<table border=\"1\" class=\"dataframe\">\n",
       "  <thead>\n",
       "    <tr style=\"text-align: right;\">\n",
       "      <th></th>\n",
       "      <th></th>\n",
       "      <th></th>\n",
       "      <th>elapsed</th>\n",
       "    </tr>\n",
       "    <tr>\n",
       "      <th>n</th>\n",
       "      <th>d</th>\n",
       "      <th>type</th>\n",
       "      <th></th>\n",
       "    </tr>\n",
       "  </thead>\n",
       "  <tbody>\n",
       "    <tr>\n",
       "      <th rowspan=\"2\" valign=\"top\">200</th>\n",
       "      <th rowspan=\"2\" valign=\"top\">100</th>\n",
       "      <th>brute force vectorized</th>\n",
       "      <td>0.000659</td>\n",
       "    </tr>\n",
       "    <tr>\n",
       "      <th>membership</th>\n",
       "      <td>0.000035</td>\n",
       "    </tr>\n",
       "  </tbody>\n",
       "</table>\n",
       "</div>"
      ],
      "text/plain": [
       "                                 elapsed\n",
       "n   d   type                            \n",
       "200 100 brute force vectorized  0.000659\n",
       "        membership              0.000035"
      ]
     },
     "execution_count": 28,
     "metadata": {},
     "output_type": "execute_result"
    }
   ],
   "source": [
    "df_time = pd.concat([r[0] for r in results])\n",
    "df_time_gb = df_time.groupby([\"n\", \"d\", \"type\"]).mean()\n",
    "df_time_gb"
   ]
  },
  {
   "cell_type": "code",
   "execution_count": 29,
   "id": "6a06d0cf",
   "metadata": {
    "execution": {
     "iopub.execute_input": "2021-11-29T22:20:02.939522Z",
     "iopub.status.busy": "2021-11-29T22:20:02.938941Z",
     "iopub.status.idle": "2021-11-29T22:20:02.966690Z",
     "shell.execute_reply": "2021-11-29T22:20:02.965892Z",
     "shell.execute_reply.started": "2021-11-29T22:20:02.939466Z"
    },
    "tags": []
   },
   "outputs": [
    {
     "data": {
      "text/html": [
       "<div>\n",
       "<style scoped>\n",
       "    .dataframe tbody tr th:only-of-type {\n",
       "        vertical-align: middle;\n",
       "    }\n",
       "\n",
       "    .dataframe tbody tr th {\n",
       "        vertical-align: top;\n",
       "    }\n",
       "\n",
       "    .dataframe thead th {\n",
       "        text-align: right;\n",
       "    }\n",
       "</style>\n",
       "<table border=\"1\" class=\"dataframe\">\n",
       "  <thead>\n",
       "    <tr style=\"text-align: right;\">\n",
       "      <th></th>\n",
       "      <th></th>\n",
       "      <th></th>\n",
       "      <th>success</th>\n",
       "      <th>actual</th>\n",
       "      <th>success %</th>\n",
       "    </tr>\n",
       "    <tr>\n",
       "      <th>n</th>\n",
       "      <th>d</th>\n",
       "      <th>type</th>\n",
       "      <th></th>\n",
       "      <th></th>\n",
       "      <th></th>\n",
       "    </tr>\n",
       "  </thead>\n",
       "  <tbody>\n",
       "    <tr>\n",
       "      <th rowspan=\"2\" valign=\"top\">200</th>\n",
       "      <th rowspan=\"2\" valign=\"top\">100</th>\n",
       "      <th>brute force vectorized</th>\n",
       "      <td>100</td>\n",
       "      <td>100</td>\n",
       "      <td>100.0</td>\n",
       "    </tr>\n",
       "    <tr>\n",
       "      <th>membership</th>\n",
       "      <td>100</td>\n",
       "      <td>100</td>\n",
       "      <td>100.0</td>\n",
       "    </tr>\n",
       "  </tbody>\n",
       "</table>\n",
       "</div>"
      ],
      "text/plain": [
       "                                success  actual  success %\n",
       "n   d   type                                              \n",
       "200 100 brute force vectorized      100     100      100.0\n",
       "        membership                  100     100      100.0"
      ]
     },
     "execution_count": 29,
     "metadata": {},
     "output_type": "execute_result"
    }
   ],
   "source": [
    "df_accuracy = pd.concat([r[1] for r in results])\n",
    "df_accuracy_gb = df_accuracy.groupby([\"n\", \"d\", \"type\"]).sum()\n",
    "df_accuracy_gb['success %'] = df_accuracy_gb[\"success\"] / df_accuracy_gb[\"actual\"] * 100\n",
    "df_accuracy_gb"
   ]
  },
  {
   "cell_type": "markdown",
   "id": "8ddc7a4a",
   "metadata": {},
   "source": [
    "# Random Polytopes"
   ]
  },
  {
   "cell_type": "code",
   "execution_count": 79,
   "id": "69510243",
   "metadata": {},
   "outputs": [],
   "source": [
    "def random_polytope(d):\n",
    "    n=10000*d\n",
    "    A = np.zeros((n,d))\n",
    "    for j in range(n):\n",
    "        normal = 0\n",
    "        p = np.zeros((d))\n",
    "        for i in range(d):\n",
    "            p[i] = np.random.normal()\n",
    "            normal += p[i] * p[i]\n",
    "        normal = 1 / np.sqrt(normal);\n",
    "        p *= normal;\n",
    "        A[j,:] = p\n",
    "    \n",
    "    b = np.array([10.0]*n)\n",
    "    P = HPolytope(A,b)\n",
    "    return P"
   ]
  },
  {
   "cell_type": "code",
   "execution_count": 7,
   "id": "87b4b5ac",
   "metadata": {},
   "outputs": [],
   "source": [
    "class SphereBasedSampler:\n",
    "\n",
    "    def __init__(self, mu: float = 0.0, sigma: float = 1.0, seed: int = 42):\n",
    "        self.generator = np.random.default_rng(seed)\n",
    "        self.mu = mu\n",
    "        self.sigma = sigma\n",
    "        self.seed = seed\n",
    "\n",
    "    def generate(self, n: int, d: int) -> HPolytope:\n",
    "        \"\"\"\n",
    "        :param n: Number of facets\n",
    "        :param d: The target dimension\n",
    "        :return: a generated polytope\n",
    "        \"\"\"\n",
    "\n",
    "        points = self.generator.normal(self.mu, self.sigma, (n, d))\n",
    "        norms = np.linalg.norm(points, axis=1, keepdims=True)\n",
    "        points = points / norms\n",
    "\n",
    "        return HPolytope(np.array(points), np.ones(n))"
   ]
  },
  {
   "cell_type": "code",
   "execution_count": 8,
   "id": "95a2d0c2",
   "metadata": {},
   "outputs": [],
   "source": [
    "dimensions = [10]# [10, 50, 100, 200, 500, 1000, 2000, 5000, 10000]\n",
    "\n",
    "polytopes = defaultdict(list)\n",
    "for d in dimensions:\n",
    "    #polytopes[0].append(random_polytope(d))\n",
    "    sampler = SphereBasedSampler()\n",
    "    polytopes[0].append(sampler.generate(1000*d, d))\n",
    "\n",
    "    #polytopes[0].append(random_polytope(d))\n",
    "    \n",
    "#print(polytopes[0][0].A())\n",
    "#print(polytopes[0][0].b())\n",
    "\n"
   ]
  },
  {
   "cell_type": "code",
   "execution_count": 9,
   "id": "7ceb3dff",
   "metadata": {},
   "outputs": [],
   "source": [
    " #cube = box2poly([(-2, 2 )] * 100)\n",
    " #print(cube.A)\n",
    " #print(cube.b)\n",
    " #cube_volesti = HPolytope(cube.A,cube.b)\n",
    "# print (cube_volesti.A(),cube_volesti.b())\n"
   ]
  },
  {
   "cell_type": "code",
   "execution_count": 10,
   "id": "86f867d2",
   "metadata": {},
   "outputs": [],
   "source": [
    "# samples = polytopes[0][0].generate_samples(walk_len = 10, number_of_points = 10, \n",
    "#                                  number_of_points_to_burn = 1, \n",
    "#                                  boundary = False, cdhr = True, rdhr = False, \n",
    "#                                  gaussian = False, set_L = False, billiard = False, \n",
    "#                                  ball_walk = False, a = 0, L = 0)\n",
    "# samples\n",
    "#P = cube_volesti\n",
    "#max_ball = fast_inner_ball(P.A(), P.b()) \n",
    "#samples = P.generate_samples(cdhr=True, radius=max_ball[1],inner_point=max_ball[0]) \n",
    "\n",
    "#samples"
   ]
  },
  {
   "cell_type": "code",
   "execution_count": 11,
   "id": "73f8cdcf",
   "metadata": {},
   "outputs": [],
   "source": [
    "def sample_polytope(P: HPolytope, n_points: int = 100, seed: int = 42):\n",
    "    #max_ball = fast_inner_ball(P.A(), P.b()) \n",
    "    #print(P.A())\n",
    "    #samples = P.generate_samples(walk_len = 20*P.dimension(), number_of_points = n_points, \n",
    "    #                             cdhr=True, radius=max_ball[1],inner_point=max_ball[0]) \n",
    "    samples =  PolytopeSampler.sample_from_polytope(P.A(), P.b(),15)\n",
    "    samples = np.transpose(samples)\n",
    "    #print(samples)\n",
    "    print(samples.shape)\n",
    "    return [Query(p, True) for p in samples]\n"
   ]
  },
  {
   "cell_type": "code",
   "execution_count": 12,
   "id": "497b2106",
   "metadata": {
    "scrolled": false
   },
   "outputs": [
    {
     "name": "stdout",
     "output_type": "stream",
     "text": [
      "phase 1: number of correlated samples = 100, effective sample size = 59\n",
      "[5]total ess 59: number of correlated samples = 100\n",
      "(100, 10)\n"
     ]
    },
    {
     "name": "stderr",
     "output_type": "stream",
     "text": [
      "[5]maximum marginal PSRF: 1.01842\n"
     ]
    }
   ],
   "source": [
    "polytope_queries = {}\n",
    "polytope_queries = [PolytopeQuery(polytope, sample_polytope(polytope)) for polytope in polytopes[0]]\n",
    "#polytope_queries = [PolytopeQuery(cube_volesti, sample_polytope(cube_volesti))]\n",
    "#print(polytope_queries)"
   ]
  },
  {
   "cell_type": "code",
   "execution_count": 13,
   "id": "8ba43b25",
   "metadata": {},
   "outputs": [],
   "source": [
    "with open(\"./random_queries.pickle\", \"wb\") as fout:\n",
    "    pickle.dump(polytope_queries, fout)"
   ]
  },
  {
   "cell_type": "code",
   "execution_count": 14,
   "id": "de9fb5bc",
   "metadata": {},
   "outputs": [
    {
     "name": "stdout",
     "output_type": "stream",
     "text": [
      "-rw-rw-r-- 1 vissarion vissarion 872K Φεβ  21 19:10 random_queries.pickle\r\n"
     ]
    }
   ],
   "source": [
    "! ls -lh random_queries.pickle"
   ]
  },
  {
   "cell_type": "code",
   "execution_count": 15,
   "id": "6f39f773",
   "metadata": {},
   "outputs": [],
   "source": [
    "with open(\"./random_queries.pickle\", \"rb\") as fin:\n",
    "    polytope_queries = pickle.load(fin)"
   ]
  },
  {
   "cell_type": "code",
   "execution_count": 16,
   "id": "ca503fea",
   "metadata": {},
   "outputs": [
    {
     "name": "stdout",
     "output_type": "stream",
     "text": [
      "n=10000 -- d=10\n"
     ]
    },
    {
     "data": {
      "application/vnd.jupyter.widget-view+json": {
       "model_id": "b4c48f78e0c14d6f9033495b641fdef3",
       "version_major": 2,
       "version_minor": 0
      },
      "text/plain": [
       "  0%|          | 0/100 [00:00<?, ?it/s]"
      ]
     },
     "metadata": {},
     "output_type": "display_data"
    },
    {
     "name": "stdout",
     "output_type": "stream",
     "text": [
      "n=10000 -- d=10\n"
     ]
    },
    {
     "data": {
      "application/vnd.jupyter.widget-view+json": {
       "model_id": "31623a120f304ebb8e0b3e3c7482e044",
       "version_major": 2,
       "version_minor": 0
      },
      "text/plain": [
       "  0%|          | 0/100 [00:00<?, ?it/s]"
      ]
     },
     "metadata": {},
     "output_type": "display_data"
    }
   ],
   "source": [
    "\n",
    "results = list()\n",
    "params = [{},  \n",
    "          dict(m=300, max_m0=300, ef_construction=300)]\n",
    "for param in params:\n",
    "    results.append(run_experiments(polytope_queries, **param))\n"
   ]
  },
  {
   "cell_type": "code",
   "execution_count": 17,
   "id": "3408d4a0",
   "metadata": {},
   "outputs": [
    {
     "name": "stdout",
     "output_type": "stream",
     "text": [
      "Params: {}\n",
      "                                  elapsed\n",
      "n     d  type                            \n",
      "10000 10 brute force vectorized  0.000129\n",
      "         membership              0.000055\n",
      "Params: {'m': 300, 'max_m0': 300, 'ef_construction': 300}\n",
      "                                  elapsed\n",
      "n     d  type                            \n",
      "10000 10 brute force vectorized  0.000130\n",
      "         membership              0.000144\n"
     ]
    }
   ],
   "source": [
    "for r, param in zip(results, params):\n",
    "    print(f'Params: {param}')\n",
    "    df_time = pd.DataFrame(r[0])\n",
    "    df_time_gb = df_time.groupby([\"n\", \"d\", \"type\"]).mean()\n",
    "    print(df_time_gb.head(100))\n",
    "# fig =  px.scatter_3d(df_time_gb.reset_index(), x='n', y='d', z='elapsed', color='type')\n",
    "# fig.show()"
   ]
  },
  {
   "cell_type": "code",
   "execution_count": 18,
   "id": "d6bd1432",
   "metadata": {},
   "outputs": [
    {
     "name": "stdout",
     "output_type": "stream",
     "text": [
      "Params: {}\n",
      "                                 success  actual  success %\n",
      "n     d  type                                              \n",
      "10000 10 brute force vectorized      100     100      100.0\n",
      "         membership                    4     100        4.0\n",
      "Params: {'m': 300, 'max_m0': 300, 'ef_construction': 300}\n",
      "                                 success  actual  success %\n",
      "n     d  type                                              \n",
      "10000 10 brute force vectorized      100     100      100.0\n",
      "         membership                   68     100       68.0\n"
     ]
    }
   ],
   "source": [
    "for r, param in zip(results, params):\n",
    "    print(f'Params: {param}')\n",
    "    df_accuracy = pd.DataFrame(r[1])\n",
    "    df_accuracy_gb = df_accuracy.groupby([\"n\", \"d\", \"type\"]).sum()\n",
    "    df_accuracy_gb['success %'] = df_accuracy_gb[\"success\"] / df_accuracy_gb[\"actual\"] * 100\n",
    "    print(df_accuracy_gb.head(100))"
   ]
  },
  {
   "cell_type": "markdown",
   "id": "a9d08f53",
   "metadata": {},
   "source": [
    "# Old"
   ]
  },
  {
   "cell_type": "code",
   "execution_count": null,
   "id": "615d3232",
   "metadata": {
    "execution": {
     "iopub.execute_input": "2021-11-26T16:01:13.677162Z",
     "iopub.status.busy": "2021-11-26T16:01:13.676738Z",
     "iopub.status.idle": "2021-11-26T16:01:13.682518Z",
     "shell.execute_reply": "2021-11-26T16:01:13.681581Z",
     "shell.execute_reply.started": "2021-11-26T16:01:13.677108Z"
    },
    "tags": []
   },
   "outputs": [],
   "source": [
    "d=100"
   ]
  },
  {
   "cell_type": "code",
   "execution_count": 14,
   "id": "6af5ddec",
   "metadata": {
    "execution": {
     "iopub.execute_input": "2021-11-26T16:01:13.954857Z",
     "iopub.status.busy": "2021-11-26T16:01:13.954461Z",
     "iopub.status.idle": "2021-11-26T16:01:13.963478Z",
     "shell.execute_reply": "2021-11-26T16:01:13.962596Z",
     "shell.execute_reply.started": "2021-11-26T16:01:13.954806Z"
    },
    "tags": []
   },
   "outputs": [],
   "source": [
    "box_out = box2poly([[-10001, 10001]] * d)\n",
    "p_out = HPolytope(box_out.A, box_out.b)"
   ]
  },
  {
   "cell_type": "code",
   "execution_count": 15,
   "id": "46916e2b",
   "metadata": {
    "execution": {
     "iopub.execute_input": "2021-11-26T16:01:14.345914Z",
     "iopub.status.busy": "2021-11-26T16:01:14.345526Z",
     "iopub.status.idle": "2021-11-26T16:01:14.356030Z",
     "shell.execute_reply": "2021-11-26T16:01:14.355040Z",
     "shell.execute_reply.started": "2021-11-26T16:01:14.345866Z"
    },
    "tags": []
   },
   "outputs": [],
   "source": [
    "m = Membership(polytope=p_out)"
   ]
  },
  {
   "cell_type": "code",
   "execution_count": 16,
   "id": "93a9b1b9",
   "metadata": {
    "execution": {
     "iopub.execute_input": "2021-11-26T16:01:14.797805Z",
     "iopub.status.busy": "2021-11-26T16:01:14.797411Z",
     "iopub.status.idle": "2021-11-26T16:01:14.803003Z",
     "shell.execute_reply": "2021-11-26T16:01:14.802100Z",
     "shell.execute_reply.started": "2021-11-26T16:01:14.797754Z"
    },
    "tags": []
   },
   "outputs": [],
   "source": [
    "query = [0.01]*d"
   ]
  },
  {
   "cell_type": "code",
   "execution_count": 21,
   "id": "cb62fdb8",
   "metadata": {
    "execution": {
     "iopub.execute_input": "2021-11-26T16:02:03.038596Z",
     "iopub.status.busy": "2021-11-26T16:02:03.038086Z",
     "iopub.status.idle": "2021-11-26T16:02:03.079022Z",
     "shell.execute_reply": "2021-11-26T16:02:03.078096Z",
     "shell.execute_reply.started": "2021-11-26T16:02:03.038541Z"
    },
    "tags": []
   },
   "outputs": [
    {
     "data": {
      "text/plain": [
       "(False, [200])"
      ]
     },
     "execution_count": 21,
     "metadata": {},
     "output_type": "execute_result"
    }
   ],
   "source": [
    "m.create_n2_nn(m=15)\n",
    "m.contains_n2(query), m._index.search_by_vector(query, 1)"
   ]
  },
  {
   "cell_type": "code",
   "execution_count": 9,
   "id": "6669d813",
   "metadata": {
    "execution": {
     "iopub.execute_input": "2021-11-26T15:59:31.342428Z",
     "iopub.status.busy": "2021-11-26T15:59:31.342021Z",
     "iopub.status.idle": "2021-11-26T15:59:31.359002Z",
     "shell.execute_reply": "2021-11-26T15:59:31.358232Z",
     "shell.execute_reply.started": "2021-11-26T15:59:31.342374Z"
    },
    "tags": []
   },
   "outputs": [
    {
     "data": {
      "text/plain": [
       "(array([[114]], dtype=uint64), array([[4.0008e+08]], dtype=float32))"
      ]
     },
     "execution_count": 9,
     "metadata": {},
     "output_type": "execute_result"
    }
   ],
   "source": [
    "m.create_hnsw_nn(m=5)\n",
    "m._index.knn_query(query, k=1)"
   ]
  },
  {
   "cell_type": "code",
   "execution_count": 6,
   "id": "48662010",
   "metadata": {
    "execution": {
     "iopub.execute_input": "2021-11-26T15:56:18.951746Z",
     "iopub.status.busy": "2021-11-26T15:56:18.951301Z",
     "iopub.status.idle": "2021-11-26T15:56:18.964909Z",
     "shell.execute_reply": "2021-11-26T15:56:18.964064Z",
     "shell.execute_reply.started": "2021-11-26T15:56:18.951691Z"
    },
    "tags": []
   },
   "outputs": [
    {
     "data": {
      "text/plain": [
       "(array([[9]], dtype=uint64), array([[4.0008e+08]], dtype=float32))"
      ]
     },
     "execution_count": 6,
     "metadata": {},
     "output_type": "execute_result"
    }
   ],
   "source": []
  },
  {
   "cell_type": "code",
   "execution_count": 8,
   "id": "4d3fd7f8",
   "metadata": {
    "execution": {
     "iopub.execute_input": "2021-11-26T15:57:00.507290Z",
     "iopub.status.busy": "2021-11-26T15:57:00.506877Z",
     "iopub.status.idle": "2021-11-26T15:57:00.527481Z",
     "shell.execute_reply": "2021-11-26T15:57:00.526451Z",
     "shell.execute_reply.started": "2021-11-26T15:57:00.507236Z"
    },
    "tags": []
   },
   "outputs": [
    {
     "ename": "TypeError",
     "evalue": "an integer is required (got type str)",
     "output_type": "error",
     "traceback": [
      "\u001b[0;31m---------------------------------------------------------------------------\u001b[0m",
      "\u001b[0;31mTypeError\u001b[0m                                 Traceback (most recent call last)",
      "\u001b[0;32m/tmp/ipykernel_11464/4282868959.py\u001b[0m in \u001b[0;36m<module>\u001b[0;34m\u001b[0m\n\u001b[0;32m----> 1\u001b[0;31m \u001b[0mm\u001b[0m\u001b[0;34m.\u001b[0m\u001b[0mcreate_annoy_nn\u001b[0m\u001b[0;34m(\u001b[0m\u001b[0;36m5000\u001b[0m\u001b[0;34m)\u001b[0m\u001b[0;34m\u001b[0m\u001b[0;34m\u001b[0m\u001b[0m\n\u001b[0m",
      "\u001b[0;32m~/projects/polytope-oracles/polytope_oracles/membership.py\u001b[0m in \u001b[0;36mcreate_annoy_nn\u001b[0;34m(self, n_trees)\u001b[0m\n\u001b[1;32m     39\u001b[0m             \u001b[0mself\u001b[0m\u001b[0;34m.\u001b[0m\u001b[0m_index\u001b[0m\u001b[0;34m.\u001b[0m\u001b[0madd_item\u001b[0m\u001b[0;34m(\u001b[0m\u001b[0mi\u001b[0m\u001b[0;34m,\u001b[0m \u001b[0mpoint\u001b[0m\u001b[0;34m)\u001b[0m\u001b[0;34m\u001b[0m\u001b[0;34m\u001b[0m\u001b[0m\n\u001b[1;32m     40\u001b[0m \u001b[0;34m\u001b[0m\u001b[0m\n\u001b[0;32m---> 41\u001b[0;31m         \u001b[0mself\u001b[0m\u001b[0;34m.\u001b[0m\u001b[0m_index\u001b[0m\u001b[0;34m.\u001b[0m\u001b[0mbuild\u001b[0m\u001b[0;34m(\u001b[0m\u001b[0mn_trees\u001b[0m\u001b[0;34m,\u001b[0m \u001b[0;34m'L2'\u001b[0m\u001b[0;34m)\u001b[0m\u001b[0;34m\u001b[0m\u001b[0;34m\u001b[0m\u001b[0m\n\u001b[0m\u001b[1;32m     42\u001b[0m \u001b[0;34m\u001b[0m\u001b[0m\n\u001b[1;32m     43\u001b[0m     \u001b[0;32mdef\u001b[0m \u001b[0mcreate_n2_nn\u001b[0m\u001b[0;34m(\u001b[0m\u001b[0mself\u001b[0m\u001b[0;34m,\u001b[0m \u001b[0mm\u001b[0m\u001b[0;34m=\u001b[0m\u001b[0;32mNone\u001b[0m\u001b[0;34m,\u001b[0m \u001b[0mmax_m0\u001b[0m\u001b[0;34m=\u001b[0m\u001b[0;32mNone\u001b[0m\u001b[0;34m,\u001b[0m \u001b[0mef_construction\u001b[0m\u001b[0;34m=\u001b[0m\u001b[0;32mNone\u001b[0m\u001b[0;34m,\u001b[0m \u001b[0mn_threads\u001b[0m\u001b[0;34m=\u001b[0m\u001b[0;32mNone\u001b[0m\u001b[0;34m,\u001b[0m \u001b[0mmult\u001b[0m\u001b[0;34m=\u001b[0m\u001b[0;32mNone\u001b[0m\u001b[0;34m,\u001b[0m \u001b[0mneighbor_selecting\u001b[0m\u001b[0;34m=\u001b[0m\u001b[0;32mNone\u001b[0m\u001b[0;34m,\u001b[0m \u001b[0mgraph_merging\u001b[0m\u001b[0;34m=\u001b[0m\u001b[0;32mNone\u001b[0m\u001b[0;34m)\u001b[0m\u001b[0;34m:\u001b[0m\u001b[0;34m\u001b[0m\u001b[0;34m\u001b[0m\u001b[0m\n",
      "\u001b[0;31mTypeError\u001b[0m: an integer is required (got type str)"
     ]
    }
   ],
   "source": [
    "m.create_annoy_nn(5000)"
   ]
  },
  {
   "cell_type": "code",
   "execution_count": 39,
   "id": "2cc61396",
   "metadata": {
    "execution": {
     "iopub.execute_input": "2021-11-26T15:45:41.356562Z",
     "iopub.status.busy": "2021-11-26T15:45:41.356165Z",
     "iopub.status.idle": "2021-11-26T15:45:41.366413Z",
     "shell.execute_reply": "2021-11-26T15:45:41.365428Z",
     "shell.execute_reply.started": "2021-11-26T15:45:41.356509Z"
    },
    "tags": []
   },
   "outputs": [
    {
     "data": {
      "text/plain": [
       "[(40, 0.8999999761581421)]"
      ]
     },
     "execution_count": 39,
     "metadata": {},
     "output_type": "execute_result"
    }
   ],
   "source": [
    "m._index.search_by_vector([0.01]*d, 1, include_distances=True)"
   ]
  },
  {
   "cell_type": "code",
   "execution_count": 9,
   "id": "d103a70b",
   "metadata": {
    "execution": {
     "iopub.execute_input": "2021-11-05T16:33:39.218713Z",
     "iopub.status.busy": "2021-11-05T16:33:39.218307Z",
     "iopub.status.idle": "2021-11-05T16:33:39.506013Z",
     "shell.execute_reply": "2021-11-05T16:33:39.505339Z",
     "shell.execute_reply.started": "2021-11-05T16:33:39.218661Z"
    },
    "tags": []
   },
   "outputs": [],
   "source": [
    "max_ball = fast_inner_ball(p.A(), p.b())\n",
    "samples = p.generate_samples(walk_len=1, number_of_points=1000, radius=max_ball[1], inner_point=max_ball[0])\n",
    "\n",
    "max_ball = fast_inner_ball(p_out.A(), p_out.b())\n",
    "samples_out = p_out.generate_samples(walk_len=1, number_of_points=1000, boundary=True, radius=max_ball[1], inner_point=max_ball[0])"
   ]
  },
  {
   "cell_type": "code",
   "execution_count": 2,
   "id": "af483087",
   "metadata": {
    "execution": {
     "iopub.execute_input": "2021-11-05T16:33:29.937742Z",
     "iopub.status.busy": "2021-11-05T16:33:29.937324Z",
     "iopub.status.idle": "2021-11-05T16:33:29.944151Z",
     "shell.execute_reply": "2021-11-05T16:33:29.942885Z",
     "shell.execute_reply.started": "2021-11-05T16:33:29.937687Z"
    },
    "tags": []
   },
   "outputs": [],
   "source": [
    "sampler = SphereBasedSampler()"
   ]
  },
  {
   "cell_type": "code",
   "execution_count": 3,
   "id": "f3f193d7",
   "metadata": {
    "execution": {
     "iopub.execute_input": "2021-11-05T16:33:31.162101Z",
     "iopub.status.busy": "2021-11-05T16:33:31.161684Z",
     "iopub.status.idle": "2021-11-05T16:33:31.167752Z",
     "shell.execute_reply": "2021-11-05T16:33:31.166479Z",
     "shell.execute_reply.started": "2021-11-05T16:33:31.162048Z"
    },
    "tags": []
   },
   "outputs": [],
   "source": [
    "d = 100"
   ]
  },
  {
   "cell_type": "code",
   "execution_count": 6,
   "id": "0b357731",
   "metadata": {
    "execution": {
     "iopub.execute_input": "2021-11-05T16:33:33.992509Z",
     "iopub.status.busy": "2021-11-05T16:33:33.992110Z",
     "iopub.status.idle": "2021-11-05T16:33:34.060004Z",
     "shell.execute_reply": "2021-11-05T16:33:34.058941Z",
     "shell.execute_reply.started": "2021-11-05T16:33:33.992457Z"
    },
    "tags": []
   },
   "outputs": [],
   "source": [
    "p = sampler.generate(d * 100, d)"
   ]
  },
  {
   "cell_type": "code",
   "execution_count": null,
   "id": "d9df1606",
   "metadata": {},
   "outputs": [
    {
     "data": {
      "text/plain": [
       "array([-1868.93666, -4586.7742 ,   514.71467,   576.38669,  3972.54032,\n",
       "       -6774.19961, -3406.26128,  4121.20468,   528.16947,  1398.48769,\n",
       "        -491.28975, -2680.04234, -2122.82087,  2996.4754 , -2513.2211 ,\n",
       "       -1099.47762,  3685.66175,  -955.48015, -4364.11833,  4020.36754,\n",
       "       -4421.60333,  4363.11061,  1480.50823, -5160.50437,    86.5002 ,\n",
       "         326.42997, -4881.73193,   -94.8487 ,  3125.00804, -2779.26511,\n",
       "       -3233.06436, -1533.41501, -2296.89104, -1038.61199,  2221.74466,\n",
       "         114.91392,  2311.06249, -1522.20762,  -256.73503,  1350.9412 ,\n",
       "        9144.16378,  1701.41608, -2791.53404, -4685.89362, -3543.41628,\n",
       "       -4866.84575,  3819.95207, -2809.14988,  8556.10131, -1736.29506,\n",
       "        5702.03686,  -647.9397 , -3966.69331,  2899.04392,  1127.25715,\n",
       "        1588.8931 ,  1142.11892,  4142.42772, -2832.8605 , -1567.92027,\n",
       "        4635.98342,   749.40934, -2319.70158,  1121.18358,  2014.69571,\n",
       "        3987.81428, 10001.     ,  -703.74761, -3474.71281, -2777.26624,\n",
       "       -2284.99289,  1549.00627, -3134.5332 , -4614.90943, -2902.11167,\n",
       "        5392.48307,  -923.87352,  3752.49573, -1743.08753, -2943.1743 ,\n",
       "        2448.15575, -6066.00848, -2013.71826, -2530.8897 , -5809.05702,\n",
       "        2859.28909, -7101.80029,  1374.69954,   478.08166, -3116.20918,\n",
       "        5348.73489,  5775.05211,   866.94401, -5574.4584 ,  -428.51987,\n",
       "       -3639.6626 , -3683.69661,  3025.33586, -2443.62611, -2023.74022])"
      ]
     },
     "execution_count": 11,
     "metadata": {},
     "output_type": "execute_result"
    }
   ],
   "source": [
    "samples_out[0, :]"
   ]
  },
  {
   "cell_type": "code",
   "execution_count": null,
   "id": "5a02491c",
   "metadata": {},
   "outputs": [],
   "source": [
    "m = Membership(polytope=p)\n",
    "m.create_annoy_nn(25000)"
   ]
  },
  {
   "cell_type": "code",
   "execution_count": null,
   "id": "498bc386",
   "metadata": {},
   "outputs": [
    {
     "data": {
      "text/plain": [
       "(841,\n",
       " 1000,\n",
       " 0.01833995155838784,\n",
       " 0.02667680139215372,\n",
       " 18.33995155838784,\n",
       " 26.67680139215372)"
      ]
     },
     "execution_count": 20,
     "metadata": {},
     "output_type": "execute_result"
    }
   ],
   "source": [
    "from timeit import default_timer as timer\n",
    "\n",
    "success = 0\n",
    "in_c = 0\n",
    "\n",
    "bf_t = 0\n",
    "m_t = 0\n",
    "for i in range(samples.shape[0]):\n",
    "    tic = timer()\n",
    "    inside = m.contains(samples[i, :])\n",
    "    m_t += timer() - tic\n",
    "    tic = timer()\n",
    "    if is_in(p, samples[i, :]):\n",
    "        in_c += 1\n",
    "    bf_t += timer() - tic\n",
    "#     print(f\"{samples[i, :]} -- inside: {inside}\")\n",
    "    if inside:\n",
    "        success += 1\n",
    "success, in_c, m_t / samples.shape[0], bf_t / samples.shape[0], m_t, bf_t"
   ]
  },
  {
   "cell_type": "markdown",
   "id": "ca725971",
   "metadata": {},
   "source": [
    "- memory leak sto acc. billiard walk gia n = 100000, d = 100\n",
    "- kivoi se poli megales diastaseis xwris sampling sigrisi me b.f. (ws pros n, d)\n",
    "- random polytopes me megalitero radius sti bala kai sigrisi me b.f. (ws pros n, d)\n",
    "- recon polytopes"
   ]
  },
  {
   "cell_type": "code",
   "execution_count": null,
   "id": "59a1d680",
   "metadata": {},
   "outputs": [
    {
     "ename": "IndexError",
     "evalue": "Vector has wrong length (expected 500, got 1000)",
     "output_type": "error",
     "traceback": [
      "\u001b[0;31m---------------------------------------------------------------------------\u001b[0m",
      "\u001b[0;31mIndexError\u001b[0m                                Traceback (most recent call last)",
      "\u001b[0;32m/tmp/ipykernel_69876/421100181.py\u001b[0m in \u001b[0;36m<module>\u001b[0;34m\u001b[0m\n\u001b[1;32m      6\u001b[0m \u001b[0;34m\u001b[0m\u001b[0m\n\u001b[1;32m      7\u001b[0m \u001b[0;32mfor\u001b[0m \u001b[0mi\u001b[0m \u001b[0;32min\u001b[0m \u001b[0mrange\u001b[0m\u001b[0;34m(\u001b[0m\u001b[0msamples_out\u001b[0m\u001b[0;34m.\u001b[0m\u001b[0mshape\u001b[0m\u001b[0;34m[\u001b[0m\u001b[0;36m0\u001b[0m\u001b[0;34m]\u001b[0m\u001b[0;34m)\u001b[0m\u001b[0;34m:\u001b[0m\u001b[0;34m\u001b[0m\u001b[0;34m\u001b[0m\u001b[0m\n\u001b[0;32m----> 8\u001b[0;31m     \u001b[0minside\u001b[0m \u001b[0;34m=\u001b[0m \u001b[0mm\u001b[0m\u001b[0;34m.\u001b[0m\u001b[0mcontains\u001b[0m\u001b[0;34m(\u001b[0m\u001b[0msamples_out\u001b[0m\u001b[0;34m[\u001b[0m\u001b[0mi\u001b[0m\u001b[0;34m,\u001b[0m \u001b[0;34m:\u001b[0m\u001b[0;34m]\u001b[0m\u001b[0;34m)\u001b[0m\u001b[0;34m\u001b[0m\u001b[0;34m\u001b[0m\u001b[0m\n\u001b[0m\u001b[1;32m      9\u001b[0m     \u001b[0;32mif\u001b[0m \u001b[0mis_in\u001b[0m\u001b[0;34m(\u001b[0m\u001b[0mp\u001b[0m\u001b[0;34m,\u001b[0m \u001b[0msamples_out\u001b[0m\u001b[0;34m[\u001b[0m\u001b[0mi\u001b[0m\u001b[0;34m,\u001b[0m \u001b[0;34m:\u001b[0m\u001b[0;34m]\u001b[0m\u001b[0;34m)\u001b[0m\u001b[0;34m:\u001b[0m\u001b[0;34m\u001b[0m\u001b[0;34m\u001b[0m\u001b[0m\n\u001b[1;32m     10\u001b[0m         \u001b[0min_c\u001b[0m \u001b[0;34m+=\u001b[0m \u001b[0;36m1\u001b[0m\u001b[0;34m\u001b[0m\u001b[0;34m\u001b[0m\u001b[0m\n",
      "\u001b[0;32m~/projects/polytope-oracles/polytope_oracles/membership.py\u001b[0m in \u001b[0;36mcontains\u001b[0;34m(self, point)\u001b[0m\n\u001b[1;32m     52\u001b[0m \u001b[0;34m\u001b[0m\u001b[0m\n\u001b[1;32m     53\u001b[0m         \u001b[0;32massert\u001b[0m \u001b[0misinstance\u001b[0m\u001b[0;34m(\u001b[0m\u001b[0mself\u001b[0m\u001b[0;34m.\u001b[0m\u001b[0m_index\u001b[0m\u001b[0;34m,\u001b[0m \u001b[0mAnnoyIndex\u001b[0m\u001b[0;34m)\u001b[0m\u001b[0;34m,\u001b[0m \u001b[0;34m\"You should create an annoy index first\"\u001b[0m\u001b[0;34m\u001b[0m\u001b[0;34m\u001b[0m\u001b[0m\n\u001b[0;32m---> 54\u001b[0;31m         \u001b[0mann\u001b[0m \u001b[0;34m=\u001b[0m \u001b[0mself\u001b[0m\u001b[0;34m.\u001b[0m\u001b[0m_index\u001b[0m\u001b[0;34m.\u001b[0m\u001b[0mget_nns_by_vector\u001b[0m\u001b[0;34m(\u001b[0m\u001b[0mpoint\u001b[0m\u001b[0;34m,\u001b[0m \u001b[0;36m1\u001b[0m\u001b[0;34m,\u001b[0m \u001b[0msearch_k\u001b[0m\u001b[0;34m=\u001b[0m\u001b[0;34m-\u001b[0m\u001b[0;36m1\u001b[0m\u001b[0;34m,\u001b[0m \u001b[0minclude_distances\u001b[0m\u001b[0;34m=\u001b[0m\u001b[0;32mFalse\u001b[0m\u001b[0;34m)\u001b[0m\u001b[0;34m[\u001b[0m\u001b[0;36m0\u001b[0m\u001b[0;34m]\u001b[0m\u001b[0;34m\u001b[0m\u001b[0;34m\u001b[0m\u001b[0m\n\u001b[0m\u001b[1;32m     55\u001b[0m         \u001b[0;32mreturn\u001b[0m \u001b[0mann\u001b[0m \u001b[0;34m==\u001b[0m \u001b[0mlen\u001b[0m\u001b[0;34m(\u001b[0m\u001b[0mself\u001b[0m\u001b[0;34m.\u001b[0m\u001b[0m_external_points\u001b[0m\u001b[0;34m)\u001b[0m\u001b[0;34m\u001b[0m\u001b[0;34m\u001b[0m\u001b[0m\n",
      "\u001b[0;31mIndexError\u001b[0m: Vector has wrong length (expected 500, got 1000)"
     ]
    }
   ],
   "source": [
    "success = 0\n",
    "in_c = 0\n",
    "\n",
    "bf_t = 0\n",
    "m_t = 0\n",
    "\n",
    "for i in range(samples_out.shape[0]):\n",
    "    inside = m.contains(samples_out[i, :])\n",
    "    if is_in(p, samples_out[i, :]):\n",
    "        in_c += 1\n",
    "#     print(f\"{samples[i, :]} -- inside: {inside}\")\n",
    "    if not inside:\n",
    "        success += 1\n",
    "success, in_c"
   ]
  },
  {
   "cell_type": "code",
   "execution_count": null,
   "id": "ff996f59",
   "metadata": {},
   "outputs": [],
   "source": [
    "m = Membership(polytope=p_out)\n",
    "m.create_annoy_nn(10000)"
   ]
  },
  {
   "cell_type": "code",
   "execution_count": null,
   "id": "9b677cd5",
   "metadata": {},
   "outputs": [
    {
     "data": {
      "text/plain": [
       "993"
      ]
     },
     "execution_count": 104,
     "metadata": {},
     "output_type": "execute_result"
    }
   ],
   "source": [
    "success = 0\n",
    "for i in range(samples.shape[0]):\n",
    "    inside = m.contains(samples[i, :])\n",
    "#     print(f\"{samples[i, :]} -- inside: {inside}\")\n",
    "    if inside:\n",
    "        success += 1\n",
    "success"
   ]
  },
  {
   "cell_type": "code",
   "execution_count": null,
   "id": "6726a5cf",
   "metadata": {},
   "outputs": [],
   "source": []
  }
 ],
 "metadata": {
  "kernelspec": {
   "display_name": "Python 3 (ipykernel)",
   "language": "python",
   "name": "python3"
  },
  "language_info": {
   "codemirror_mode": {
    "name": "ipython",
    "version": 3
   },
   "file_extension": ".py",
   "mimetype": "text/x-python",
   "name": "python",
   "nbconvert_exporter": "python",
   "pygments_lexer": "ipython3",
   "version": "3.8.10"
  },
  "toc-showtags": true
 },
 "nbformat": 4,
 "nbformat_minor": 5
}
